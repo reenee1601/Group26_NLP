{
 "cells": [
  {
   "cell_type": "markdown",
   "metadata": {
    "id": "eIRhc7drd8AY"
   },
   "source": [
    "# 50.040 Natural Language Processing (Fall 2024) Final Project (100 Points)\n",
    "\n",
    "**DUE DATE: 13 December 2024**\n",
    "\n",
    "Final project will be graded by Chen Huang"
   ]
  },
  {
   "cell_type": "markdown",
   "metadata": {
    "id": "FsCU5Q_6d8Ac"
   },
   "source": [
    "\n",
    "# Group Information (Fill before you start)\n",
    "\n",
    "**Group Name:** Group 26\n",
    "\n",
    "**Name(STUDNET ID) (2-3 person):**\n",
    "\n",
    "- Mehta Yash Piyush (1006516)\n",
    "- Mohana Selvakumar (1006162)\n",
    "- Harini Parthasarathy (1006095)\n",
    "\n",
    "**Please also rename the final submitted pdf as ``finalproject_[GROUP_NAME].pdf``**\n",
    "\n",
    "**-1 points if info not filled or file name not adjusted before submission, -100 points if you copy other's answer. We encourage discussion, but please do not copy without thinking.**"
   ]
  },
  {
   "cell_type": "markdown",
   "metadata": {
    "id": "bDOUuC7-CdX-"
   },
   "source": [
    "## [!] Please read this if your computer does not have GPUs.\n",
    "### Free GPU Resources\n",
    "We suggest that you run neural language models on machines with GPU(s). Google provides the free online platform [Colaboratory](https://colab.research.google.com/notebooks/welcome.ipynb), a research tool for machine learning education and research. It’s a Jupyter notebook environment that requires no setup to use as common packages have been  pre-installed. Google users can have access to a Tesla T4 GPU (approximately 15G memory). Note that when you connect to a GPU-based VM runtime, you are given a maximum of 12 hours at a time on the VM.\n",
    "\n",
    "Colab is web-based, fast and convinient. You can simply upload this notebook and run it online. For the database needed in this task, you can download it and upload to colab OR you can save it in your google drive and link it with the colab.\n",
    "\n",
    "It is convenient to upload local Jupyter Notebook files and data to Colab, please refer to the [tutorial](https://colab.research.google.com/notebooks/io.ipynb).\n",
    "\n",
    "In addition, Microsoft also provides the online platform [Azure Notebooks](https://notebooks.azure.com/help/introduction) for research of data science and machine learning, there are free trials for new users with credits."
   ]
  },
  {
   "cell_type": "markdown",
   "metadata": {
    "id": "V0iF5uWcCdXV"
   },
   "source": [
    "# Instructions\n",
    "Please read the following instructions carefully before you begin this project:\n",
    "\n",
    "- This is a group project. You are allowed to form groups in any way you like, but each group must consist of either 2 or 3 people. Please submit your group information to eDimension as soon as possible if you have not yet done so (the deadline was 11th October 2024).\n",
    "\n",
    "- Each group should submit code along with a report summarizing your work, and provide clear instructions on how to run your code. Additionally, please submit your system's outputs. The output should be in the same column format as the training set.\n",
    "\n",
    "- You are given **8** weeks to work on the project. We understand this is a busy time during your final term, so Week **13** will be reserved as the \"Final Project Week\" for you to focus on the project (i.e., there will be no classes that week). Please plan and manage your time well.\n",
    "\n",
    "- Please use Python to complete this project."
   ]
  },
  {
   "cell_type": "markdown",
   "metadata": {
    "id": "W8LL9Z9w08uM"
   },
   "source": [
    "# Project Summary\n",
    "Welcome to the design project for our natural language processing (NLP) course offered at SUTD!\n",
    "\n",
    "In this project, you will undertake an NLP task in _sentiment analysis_. We will begin by guiding you through data understanding, pre-processing, and instructing you to construct RNN and CNN models for the task. Afterward, you are encouraged to develop your own model to improve the results. The final test set will be released on **11 December 2024 at 5pm** (48 hours before the final project deadline). You will use your own system to generate the outputs. The system with the highest F1 score will be announced as the winner for each challenge. If no clear winner emerges from the test set results, further analysis or evaluations may be conducted."
   ]
  },
  {
   "cell_type": "markdown",
   "metadata": {
    "id": "F5wC4lqKCdXW"
   },
   "source": [
    "# Task Introduction and Data pre-processing (20 points)\n",
    "## Sentiment Analysis\n",
    "With the proliferation of online social media and review platforms, vast amounts of opinionated data have been generated, offering immense potential to support decision-making processes. Sentiment analysis examines people's sentiments expressed in text, such as product reviews, blog comments, and forum discussions. It finds wide applications in diverse fields, including politics (e.g., analyzing public sentiment towards policies), finance (e.g., evaluating market sentiments), and marketing (e.g., product research and brand management).\n",
    "\n",
    "Since sentiments can often be categorized into discrete polarities or scales (e.g., positive or negative), sentiment analysis can be framed as a text classification task. This task involves transforming text sequences of varying lengths into fixed-length categorical labels.\n",
    "\n",
    "## Data pre-processing\n",
    "In this project, we will utilize [Stanford's large movie review dataset](https://ai.stanford.edu/%7Eamaas/data/sentiment/) for sentiment analysis. The dataset consists of a training set and a testing set, each containing 25,000 movie reviews sourced from IMDb. Both datasets have an equal number of \"positive\" and \"negative\" labels, representing different sentiment polarities. Please download and extract this IMDb review dataset in the path `../data/aclImdb`.\n",
    "\n",
    "*Hints*: While the following instructions are based on a split of 25,000 for training and 25,000 for testing, you are free to choose your own dataset split, as we will provide a separate test set for the final evaluation. However, any changes you make to the default split must be clearly indicated in your report. Failure to explicitly mention such modifications may result in a penalty.\n",
    "\n"
   ]
  },
  {
   "cell_type": "code",
   "execution_count": 1,
   "metadata": {
    "id": "NcFFk4vU08uN"
   },
   "outputs": [],
   "source": [
    "import os\n",
    "import tarfile\n",
    "import urllib.request\n",
    "import hashlib\n",
    "\n",
    "import torch\n",
    "from torch import nn\n",
    "from d2l import torch as d2l # You can skip this if you have trouble with this package, all d2l-related codes can be replaced by torch functions.\n",
    "import matplotlib.pyplot as plt"
   ]
  },
  {
   "cell_type": "code",
   "execution_count": 2,
   "metadata": {
    "colab": {
     "base_uri": "https://localhost:8080/"
    },
    "id": "t3DX-NIM08uN",
    "outputId": "23fb8604-28ba-4628-c7c7-615d6fd77223"
   },
   "outputs": [
    {
     "name": "stdout",
     "output_type": "stream",
     "text": [
      "\n",
      "Dataset downloaded and extracted to: ./data/aclImdb\n",
      "\n",
      "Dataset structure:\n",
      "aclImdb/\n",
      "    imdb.vocab\n",
      "    README\n",
      "    imdbEr.txt\n",
      "    train/\n",
      "        labeledBow.feat\n",
      "        urls_neg.txt\n",
      "        unsupBow.feat\n",
      "        urls_unsup.txt\n",
      "        urls_pos.txt\n",
      "        pos/\n",
      "        neg/\n",
      "        unsup/\n",
      "    test/\n",
      "        labeledBow.feat\n",
      "        urls_neg.txt\n",
      "        urls_pos.txt\n",
      "        pos/\n",
      "        neg/\n"
     ]
    }
   ],
   "source": [
    "def download_extract_imdb(base_dir='./data'):\n",
    "    \"\"\"\n",
    "    Download and extract the IMDB dataset\n",
    "\n",
    "    Parameters:\n",
    "    base_dir (str): Base directory to store the dataset\n",
    "\n",
    "    Returns:\n",
    "    str: Path to the extracted dataset\n",
    "    \"\"\"\n",
    "    # Create data directory if it doesn't exist\n",
    "    os.makedirs(base_dir, exist_ok=True)\n",
    "\n",
    "    # Dataset URL and expected SHA-1 hash\n",
    "    url = \"https://ai.stanford.edu/~amaas/data/sentiment/aclImdb_v1.tar.gz\"\n",
    "    filename = os.path.join(base_dir, \"aclImdb_v1.tar.gz\")\n",
    "    expected_sha1 = '01ada507287d82875905620988597833ad4e0903'\n",
    "\n",
    "    # Download the file if it doesn't exist or has wrong hash\n",
    "    if not os.path.exists(filename) or hashlib.sha1(open(filename, 'rb').read()).hexdigest() != expected_sha1:\n",
    "        print(f\"Downloading IMDB dataset from {url}...\")\n",
    "        urllib.request.urlretrieve(url, filename)\n",
    "\n",
    "        # Verify downloaded file\n",
    "        sha1 = hashlib.sha1(open(filename, 'rb').read()).hexdigest()\n",
    "        if sha1 != expected_sha1:\n",
    "            raise ValueError(f\"Downloaded file has incorrect SHA-1 hash. Expected {expected_sha1}, got {sha1}\")\n",
    "\n",
    "    # Extract the dataset if not already extracted\n",
    "    extract_path = os.path.join(base_dir, 'aclImdb')\n",
    "    if not os.path.exists(extract_path):\n",
    "        print(\"Extracting dataset...\")\n",
    "        with tarfile.open(filename, 'r:gz') as tar:\n",
    "            def is_within_directory(directory, target):\n",
    "                abs_directory = os.path.abspath(directory)\n",
    "                abs_target = os.path.abspath(target)\n",
    "                prefix = os.path.commonprefix([abs_directory, abs_target])\n",
    "                return prefix == abs_directory\n",
    "\n",
    "            def safe_extract(tar, path):\n",
    "                for member in tar.getmembers():\n",
    "                    member_path = os.path.join(path, member.name)\n",
    "                    if not is_within_directory(path, member_path):\n",
    "                        raise Exception(\"Attempted Path Traversal in Tar File\")\n",
    "\n",
    "                tar.extractall(path)\n",
    "\n",
    "            safe_extract(tar, base_dir)\n",
    "        print(\"Extraction complete!\")\n",
    "\n",
    "    return extract_path\n",
    "\n",
    "if __name__ == \"__main__\":\n",
    "    try:\n",
    "        data_dir = download_extract_imdb()\n",
    "        print(f\"\\nDataset downloaded and extracted to: {data_dir}\")\n",
    "\n",
    "        # Print dataset structure\n",
    "        print(\"\\nDataset structure:\")\n",
    "        for root, dirs, files in os.walk(data_dir):\n",
    "            level = root.replace(data_dir, '').count(os.sep)\n",
    "            indent = ' ' * 4 * level\n",
    "            print(f\"{indent}{os.path.basename(root)}/\")\n",
    "            if level < 2:  # Only show files up to 2 levels deep\n",
    "                subindent = ' ' * 4 * (level + 1)\n",
    "                for f in files[:5]:  # Show only first 5 files\n",
    "                    print(f\"{subindent}{f}\")\n",
    "                if len(files) > 5:\n",
    "                    print(f\"{subindent}...\")\n",
    "    except Exception as e:\n",
    "        print(f\"Error: {str(e)}\")"
   ]
  },
  {
   "cell_type": "code",
   "execution_count": 3,
   "metadata": {
    "colab": {
     "base_uri": "https://localhost:8080/"
    },
    "id": "8fQMVaDT1yWO",
    "outputId": "753450e8-d426-4705-9b95-5970623e5c7a"
   },
   "outputs": [],
   "source": [
    "# !pip install d2l==0.17.5"
   ]
  },
  {
   "cell_type": "code",
   "execution_count": 4,
   "metadata": {
    "id": "_mRmSSMa08uO"
   },
   "outputs": [],
   "source": [
    "# # Skip this if you have already downloaded the dataset\n",
    "# d2l.DATA_HUB['aclImdb'] = (d2l.DATA_URL + 'aclImdb_v1.tar.gz',\n",
    "#                           '01ada507287d82875905620988597833ad4e0903')\n",
    "\n",
    "# data_dir = d2l.download_extract('aclImdb', 'aclImdb')"
   ]
  },
  {
   "cell_type": "markdown",
   "metadata": {
    "id": "QB0r7H4i08uO"
   },
   "source": [
    "# Questions"
   ]
  },
  {
   "cell_type": "markdown",
   "metadata": {
    "id": "G0vxL-WpCdXX"
   },
   "source": [
    "### Question 1 [code] **(5 points)**\n",
    "Complete the function ``read_imdb``, which reads the IMDb review dataset text sequences and labels. Then, run the sanity check cell to check your implementation."
   ]
  },
  {
   "cell_type": "code",
   "execution_count": 5,
   "metadata": {
    "id": "pjKTXf5R08uO"
   },
   "outputs": [],
   "source": [
    "data_dir = \"data/aclImdb/\""
   ]
  },
  {
   "cell_type": "code",
   "execution_count": 6,
   "metadata": {
    "id": "TOyoT-QiCdXY"
   },
   "outputs": [],
   "source": [
    "\n",
    "def read_imdb(data_dir, is_train):\n",
    "    \"\"\"Read the IMDb review dataset text sequences and labels.\"\"\"\n",
    "    ### YOUR CODE HERE\n",
    "    data, labels = [], []\n",
    "\n",
    "    folder = 'train' if is_train else 'test'\n",
    "\n",
    "    pos_dir = os.path.join(data_dir, folder, 'pos')\n",
    "    neg_dir = os.path.join(data_dir, folder, 'neg')\n",
    "\n",
    "    for filename in os.listdir(pos_dir):\n",
    "        with open(os.path.join(pos_dir, filename), 'r', encoding='utf-8') as f:\n",
    "            data.append(f.read())\n",
    "            labels.append(1)\n",
    "\n",
    "    for filename in os.listdir(neg_dir):\n",
    "        with open(os.path.join(neg_dir, filename), 'r', encoding='utf-8') as f:\n",
    "            data.append(f.read())\n",
    "            labels.append(0)\n",
    "\n",
    "\n",
    "    ### END OF YOUR CODE\n",
    "    return data, labels"
   ]
  },
  {
   "cell_type": "code",
   "execution_count": 7,
   "metadata": {
    "id": "KsOAFRtq08uO"
   },
   "outputs": [
    {
     "name": "stdout",
     "output_type": "stream",
     "text": [
      "# trainings: 25000\n",
      "label: 1 review: Errol Flynn's greatest movie, not just a sports movie with a\n",
      "label: 1 review: If you are uninitiated to the Gundam world, this is a good p\n",
      "label: 1 review: The Caprica episode (S01E01) is well done as a pilot. Really\n"
     ]
    }
   ],
   "source": [
    "# Sanity check\n",
    "train_data = read_imdb(data_dir, is_train=True)\n",
    "\n",
    "print('# trainings:', len(train_data[0]))\n",
    "for x, y in zip(train_data[0][:3], train_data[1][:3]):\n",
    "    print('label:', y, 'review:', x[:60])"
   ]
  },
  {
   "cell_type": "markdown",
   "metadata": {
    "id": "H6wOn16Y08uO"
   },
   "source": [
    "### Question 2 [code] **(5 points)**\n",
    "Treating each word as a token and filtering out words that appear less than 5 times, we create a vocabulary out of the training dataset. After tokenization, please plot the histogram of review lengths in tokens. (Hint: you can use ``matplotlib`` package to draw the histogram.) Then, run the sanity check cell to check your implementation."
   ]
  },
  {
   "cell_type": "code",
   "execution_count": 8,
   "metadata": {
    "id": "0iH9rX0u08uP"
   },
   "outputs": [],
   "source": [
    "import torch\n",
    "from d2l import torch as d2l\n",
    "\n",
    "train_tokens = d2l.tokenize(train_data[0], 'word')\n",
    "vocab = d2l.Vocab(train_tokens, min_freq=5, reserved_tokens=['<pad>'])\n",
    "\n",
    "# tokenize the data\n",
    "train_tokens = d2l.tokenize(train_data[0], token='word')\n",
    "\n",
    "# Create a vocabulary with minimum frequency of 5\n",
    "vocab = d2l.Vocab(train_tokens, min_freq=5, reserved_tokens=['<pad>'])"
   ]
  },
  {
   "cell_type": "code",
   "execution_count": 9,
   "metadata": {
    "id": "QQe4ygaT08uP"
   },
   "outputs": [
    {
     "data": {
      "image/png": "[encoded data removed]",
      "text/plain": [
       "<Figure size 1000x600 with 1 Axes>"
      ]
     },
     "metadata": {},
     "output_type": "display_data"
    }
   ],
   "source": [
    "# xlabel: # tokens per review\n",
    "# ylabel: count\n",
    "\n",
    "### YOUR CODE HERE\n",
    "\n",
    "review_lengths = [len(vocab[line]) for line in train_tokens]\n",
    "\n",
    "# plot the histogram of review lengths\n",
    "plt.figure(figsize=(10, 6))\n",
    "plt.hist(review_lengths, bins=50)\n",
    "plt.xlabel('# tokens per review')\n",
    "plt.ylabel('count')\n",
    "plt.title('Histogram of Review Lengths')\n",
    "plt.show()\n",
    "\n",
    "### END OF YOUR CODE"
   ]
  },
  {
   "cell_type": "code",
   "execution_count": 10,
   "metadata": {
    "id": "mGF5E63s08uP",
    "outputId": "8b8989f2-2a82-4b85-e9d2-7cf6323b27b0"
   },
   "outputs": [
    {
     "name": "stdout",
     "output_type": "stream",
     "text": [
      "torch.Size([25000, 500])\n"
     ]
    }
   ],
   "source": [
    "num_steps = 500 # sequence length\n",
    "train_features = torch.tensor([d2l.truncate_pad(\n",
    "    vocab[line], num_steps, vocab['<pad>']) for line in train_tokens])\n",
    "print(train_features.shape)"
   ]
  },
  {
   "cell_type": "markdown",
   "metadata": {
    "id": "4gyblZSQ08uP"
   },
   "source": [
    "### Question 3 [code] **(5 points)**\n",
    "Create data iterator ``train_iter``, at each iteration, a minibatch of examples are returned. Let's set the mini-batch size to 64.\n",
    "\n"
   ]
  },
  {
   "cell_type": "code",
   "execution_count": 11,
   "metadata": {
    "id": "D-95duOA08uP",
    "outputId": "7633b46c-03e7-4c98-92c4-b677ea013e2a"
   },
   "outputs": [
    {
     "name": "stdout",
     "output_type": "stream",
     "text": [
      "X: torch.Size([64, 500]) , y: torch.Size([64])\n",
      "# batches: 391\n"
     ]
    }
   ],
   "source": [
    "### YOUR CODE HERE\n",
    "\n",
    "from torch.utils.data import DataLoader, TensorDataset\n",
    "\n",
    "batch_size = 64\n",
    "\n",
    "# create a TensorDataset and DataLoader for the training data\n",
    "train_dataset = TensorDataset(train_features, torch.tensor(train_data[1]))\n",
    "train_iter = DataLoader(train_dataset, batch_size=batch_size, shuffle=True)\n",
    "\n",
    "### END OF YOUR CODE\n",
    "\n",
    "for X, y in train_iter:\n",
    "    print('X:', X.shape, ', y:', y.shape)\n",
    "    break\n",
    "print('# batches:', len(train_iter))"
   ]
  },
  {
   "cell_type": "markdown",
   "metadata": {
    "id": "PVpoDgU7CdXb"
   },
   "source": [
    "### Question 4 [code] **(5 points)**\n",
    "Finally, wrap up the above steps into the ``load_data_imdb`` function. It returns training and test data iterators and the vocabulary of the IMDb review dataset.\n"
   ]
  },
  {
   "cell_type": "code",
   "execution_count": 12,
   "metadata": {
    "id": "_IeJjBmM08uP"
   },
   "outputs": [],
   "source": [
    "#@save\n",
    "def load_data_imdb(batch_size, num_steps=500):\n",
    "    \"\"\"Return data iterators and the vocabulary of the IMDb review dataset.\"\"\"\n",
    "\n",
    "    ### YOUR CODE HERE\n",
    "\n",
    "    # read the training and test datasets\n",
    "    data_dir = \"data/aclImdb/\"\n",
    "    train_data = read_imdb(data_dir, is_train=True)\n",
    "    test_data = read_imdb(data_dir, is_train=False)\n",
    "\n",
    "    # tokenize the training data to create the vocabulary\n",
    "    train_tokens = d2l.tokenize(train_data[0], token='word')\n",
    "    vocab = d2l.Vocab(train_tokens, min_freq=5, reserved_tokens=['<pad>'])\n",
    "\n",
    "    # convert tokenized reviews into fixed-length sequences (padding/truncating)\n",
    "    train_features = torch.tensor([\n",
    "        d2l.truncate_pad(vocab[line], num_steps, vocab['<pad>'])\n",
    "        for line in train_tokens\n",
    "    ])\n",
    "\n",
    "    test_tokens = d2l.tokenize(test_data[0], token='word')\n",
    "    test_features = torch.tensor([\n",
    "        d2l.truncate_pad(vocab[line], num_steps, vocab['<pad>'])\n",
    "        for line in test_tokens\n",
    "    ])\n",
    "\n",
    "    # convert labels to tensors\n",
    "    train_labels = torch.tensor(train_data[1])\n",
    "    test_labels = torch.tensor(test_data[1])\n",
    "\n",
    "    # create data iterators\n",
    "    train_iter = DataLoader(TensorDataset(train_features, train_labels), batch_size=batch_size, shuffle=True)\n",
    "    test_iter = DataLoader(TensorDataset(test_features, test_labels), batch_size=batch_size)\n",
    "\n",
    "\n",
    "    ### END OF YOUR CODE\n",
    "\n",
    "    return train_iter, test_iter, vocab"
   ]
  },
  {
   "cell_type": "markdown",
   "metadata": {
    "id": "2kAezpJ9CdXd"
   },
   "source": [
    "# Using RNN for sentiment analysis (30 points)\n",
    "Similar to word similarity and analogy tasks, pre-trained word vectors can also be applied to sentiment analysis. Given that the IMDb review dataset is relatively small, using text representations pre-trained on large-scale corpora can help mitigate model overfitting. Each token can be represented using the pre-trained GloVe model, and these token embeddings can be fed into a multilayer bidirectional RNN to generate a sequence representation of the text, which will then be transformed into sentiment analysis outputs. Later, we will explore an alternative architectural approach for the same downstream task."
   ]
  },
  {
   "cell_type": "markdown",
   "metadata": {
    "id": "IeYanR1O08uQ"
   },
   "source": [
    "### Question 5 [code] **(10 points)**\n",
    "In text classification tasks, such as sentiment analysis, a varying-length text sequence is transformed into fixed-length categorical labels. Following the instructions, please complete ``BiRNN`` class, each token in a text sequence receives its individual pre-trained GloVe representation through the embedding layer (``self.embedding``). The entire sequence is then encoded by a bidirectional RNN (``self.encoder``). Specifically, the hidden states from the last layer of the bidirectional LSTM, at both the initial and final time steps, are concatenated to form the representation of the text sequence. This representation is subsequently passed through a fully connected layer (``self.decoder``) to produce the final output categories, which in this case are \"positive\" and \"negative\"."
   ]
  },
  {
   "cell_type": "code",
   "execution_count": 13,
   "metadata": {
    "id": "EFlQNef608uQ"
   },
   "outputs": [],
   "source": [
    "batch_size = 64\n",
    "train_iter, test_iter, vocab = load_data_imdb(batch_size)"
   ]
  },
  {
   "cell_type": "code",
   "execution_count": 14,
   "metadata": {
    "id": "S-rwdVwx08uQ"
   },
   "outputs": [],
   "source": [
    "class BiRNN(nn.Module):\n",
    "    def __init__(self, vocab_size, embed_size, num_hiddens,\n",
    "                 num_layers, **kwargs):\n",
    "        super(BiRNN, self).__init__(**kwargs)\n",
    "        self.embedding = nn.Embedding(vocab_size, embed_size)\n",
    "        # Set `bidirectional` to True to get a bidirectional RNN\n",
    "        self.encoder = nn.LSTM(embed_size, num_hiddens, num_layers=num_layers,\n",
    "                                bidirectional=True)\n",
    "        self.decoder = nn.Linear(4 * num_hiddens, 2)\n",
    "\n",
    "    def forward(self, inputs):\n",
    "        # The shape of `inputs` is (batch size, no. of time steps). Because\n",
    "        # LSTM requires its input's first dimension to be the temporal\n",
    "        # dimension, the input is transposed before obtaining token\n",
    "        # representations. The output shape is (no. of time steps, batch size,\n",
    "        # word vector dimension)\n",
    "\n",
    "        # Returns hidden states of the last hidden layer at different time\n",
    "        # steps. The shape of `outputs` is (no. of time steps, batch size,\n",
    "        # 2 * no. of hidden units)\n",
    "\n",
    "        # Concatenate the hidden states at the initial and final time steps as\n",
    "        # the input of the fully connected layer. Its shape is (batch size,\n",
    "        # 4 * no. of hidden units)\n",
    "\n",
    "        ### YOUR CODE HERE\n",
    "        embeddings = self.embedding(inputs.T)\n",
    "        outputs, (hidden, _) = self.encoder(embeddings)\n",
    "        encoded = torch.cat((hidden[0], hidden[1], hidden[-2], hidden[-1]), dim=1)\n",
    "        outs = self.decoder(encoded)\n",
    "\n",
    "        ### END OF YOUR CODE\n",
    "\n",
    "        return outs"
   ]
  },
  {
   "cell_type": "markdown",
   "metadata": {
    "id": "6VQ51Vy_08uQ"
   },
   "source": [
    "Let’s construct a bidirectional RNN with two hidden layers to represent single text for sentiment analysis."
   ]
  },
  {
   "cell_type": "code",
   "execution_count": 15,
   "metadata": {
    "id": "l3Qd2iKu08uQ",
    "outputId": "081eb540-8a69-421c-ba21-9460bc15439c"
   },
   "outputs": [
    {
     "data": {
      "text/plain": [
       "BiRNN(\n",
       "  (embedding): Embedding(49347, 100)\n",
       "  (encoder): LSTM(100, 100, num_layers=2, bidirectional=True)\n",
       "  (decoder): Linear(in_features=400, out_features=2, bias=True)\n",
       ")"
      ]
     },
     "execution_count": 15,
     "metadata": {},
     "output_type": "execute_result"
    }
   ],
   "source": [
    "embed_size, num_hiddens, num_layers, devices = 100, 100, 2, d2l.try_all_gpus()\n",
    "net = BiRNN(len(vocab), embed_size, num_hiddens, num_layers)\n",
    "\n",
    "def init_weights(module):\n",
    "    if type(module) == nn.Linear:\n",
    "        nn.init.xavier_uniform_(module.weight)\n",
    "    if type(module) == nn.LSTM:\n",
    "        for param in module._flat_weights_names:\n",
    "            if \"weight\" in param:\n",
    "                nn.init.xavier_uniform_(module._parameters[param])\n",
    "net.apply(init_weights)"
   ]
  },
  {
   "cell_type": "markdown",
   "metadata": {
    "id": "ZILdljLy08uQ"
   },
   "source": [
    "### Loading Pretrained Word Vectors"
   ]
  },
  {
   "cell_type": "code",
   "execution_count": 16,
   "metadata": {
    "id": "B5L90v5n08uQ",
    "outputId": "e3920267-62af-442e-b99f-67b0169510cc"
   },
   "outputs": [
    {
     "name": "stdout",
     "output_type": "stream",
     "text": [
      "Embeddings shape: torch.Size([49347, 100])\n"
     ]
    }
   ],
   "source": [
    "from d2l import torch as d2l\n",
    "\n",
    "def load_glove_embeddings(embedding_name='glove.6b.100d'):\n",
    "    \"\"\"\n",
    "    Load GloVe embeddings with proper encoding handling\n",
    "\n",
    "    Args:\n",
    "        embedding_name (str): Name of the GloVe embedding file to load\n",
    "\n",
    "    Returns:\n",
    "        tuple: (list of tokens, tensor of embeddings)\n",
    "    \"\"\"\n",
    "    data_dir = d2l.download_extract(embedding_name)\n",
    "    idx_to_token, idx_to_vec = [], []\n",
    "\n",
    "    # Open file with UTF-8 encoding\n",
    "    with open(os.path.join(data_dir, 'vec.txt'), 'r', encoding='utf-8') as f:\n",
    "        for line in f:\n",
    "            elems = line.rstrip().split(' ')\n",
    "            token, elems = elems[0], [float(elem) for elem in elems[1:]]\n",
    "            idx_to_token.append(token)\n",
    "            idx_to_vec.append(elems)\n",
    "\n",
    "    idx_to_vec = torch.tensor(idx_to_vec)\n",
    "    return idx_to_token, idx_to_vec\n",
    "\n",
    "# Usage\n",
    "try:\n",
    "    # Create custom TokenEmbedding instance\n",
    "    class CustomTokenEmbedding(d2l.TokenEmbedding):\n",
    "        def __init__(self, embedding_name):\n",
    "            super().__init__(embedding_name)\n",
    "\n",
    "        def _load_embedding(self, embedding_name):\n",
    "            return load_glove_embeddings(embedding_name)\n",
    "\n",
    "    # Load embeddings using the custom class\n",
    "    glove_embedding = CustomTokenEmbedding('glove.6b.100d')\n",
    "    embeds = glove_embedding[vocab.idx_to_token]\n",
    "    print(f\"Embeddings shape: {embeds.shape}\")\n",
    "\n",
    "except Exception as e:\n",
    "    print(f\"Error loading embeddings: {str(e)}\")"
   ]
  },
  {
   "cell_type": "markdown",
   "metadata": {
    "id": "JC3xhRmE08uQ"
   },
   "source": [
    "We use these pretrained word vectors to represent tokens in the reviews and will not update these vectors during training"
   ]
  },
  {
   "cell_type": "code",
   "execution_count": 17,
   "metadata": {
    "id": "Y3-7vvM808uQ"
   },
   "outputs": [],
   "source": [
    "net.embedding.weight.data.copy_(embeds)\n",
    "net.embedding.weight.requires_grad = False"
   ]
  },
  {
   "cell_type": "markdown",
   "metadata": {
    "id": "7WwnKNaK08uQ"
   },
   "source": [
    "### Question 6 [code] **(10 points)**\n",
    "After loading the pretrained word vectors, we can now start to train the model. Please use ``Adam`` optimizer and ``CrossEntropyLoss`` for training and draw a graph about your training loss, training acc and testing acc."
   ]
  },
  {
   "cell_type": "code",
   "execution_count": 19,
   "metadata": {
    "id": "CP9LGHIy08uR",
    "outputId": "2aa638d1-f665-4641-fed0-f64beae4f209",
    "scrolled": true
   },
   "outputs": [
    {
     "name": "stdout",
     "output_type": "stream",
     "text": [
      "Using device: cuda\n",
      "Epoch [1/5], Loss: 0.3912, Train Accuracy: 0.8275, Test Accuracy: 0.8266\n",
      "Epoch [2/5], Loss: 0.3608, Train Accuracy: 0.8450, Test Accuracy: 0.8261\n",
      "Epoch [3/5], Loss: 0.3329, Train Accuracy: 0.8610, Test Accuracy: 0.8279\n",
      "Epoch [4/5], Loss: 0.3105, Train Accuracy: 0.8678, Test Accuracy: 0.8385\n",
      "Epoch [5/5], Loss: 0.2791, Train Accuracy: 0.8864, Test Accuracy: 0.8414\n"
     ]
    }
   ],
   "source": [
    "import torch\n",
    "import torch.nn as nn\n",
    "import torch.optim as optim\n",
    "import numpy as np\n",
    "import pandas as pd\n",
    "\n",
    "device = torch.device('cuda' if torch.cuda.is_available() else 'cpu')\n",
    "print(f'Using device: {device}')\n",
    "net = net.to(device)\n",
    "lr, num_epochs = 0.01, 5\n",
    "train_losses = []\n",
    "train_accuracies = []\n",
    "test_accuracies = []\n",
    "loss_fn = nn.CrossEntropyLoss()\n",
    "optimizer = optim.Adam(net.parameters(), lr=lr)\n",
    "train_predictions = []\n",
    "test_predictions = []\n",
    "train_true_labels = []\n",
    "test_true_labels = []\n",
    "\n",
    "for epoch in range(num_epochs):\n",
    "    net.train()\n",
    "    total_loss = 0\n",
    "    correct_train, total_train = 0, 0\n",
    "    epoch_train_preds = []\n",
    "    epoch_train_labels = []\n",
    "    \n",
    "    for batch_idx, (features, labels) in enumerate(train_iter):\n",
    "        features = features.to(device)\n",
    "        labels = labels.to(device)\n",
    "        optimizer.zero_grad()\n",
    "        outputs = net(features)\n",
    "        loss = loss_fn(outputs, labels)\n",
    "        total_loss += loss.item()\n",
    "        loss.backward()\n",
    "        optimizer.step()\n",
    "        _, predicted = torch.max(outputs, 1)\n",
    "        correct_train += (predicted == labels).sum().item()\n",
    "        total_train += labels.size(0)\n",
    "        epoch_train_preds.extend(predicted.cpu().numpy())\n",
    "        epoch_train_labels.extend(labels.cpu().numpy())\n",
    "    \n",
    "    avg_train_loss = total_loss / len(train_iter)\n",
    "    train_accuracy = correct_train / total_train\n",
    "    train_losses.append(avg_train_loss)\n",
    "    train_accuracies.append(train_accuracy)\n",
    "    train_predictions.append(epoch_train_preds)\n",
    "    train_true_labels.append(epoch_train_labels)\n",
    "    \n",
    "    net.eval()\n",
    "    correct_test, total_test = 0, 0\n",
    "    epoch_test_preds = []\n",
    "    epoch_test_labels = []\n",
    "    \n",
    "    with torch.no_grad():\n",
    "        for features, labels in test_iter:\n",
    "            features = features.to(device)\n",
    "            labels = labels.to(device)\n",
    "            outputs = net(features)\n",
    "            _, predicted = torch.max(outputs, 1)\n",
    "            correct_test += (predicted == labels).sum().item()\n",
    "            total_test += labels.size(0)\n",
    "            epoch_test_preds.extend(predicted.cpu().numpy())\n",
    "            epoch_test_labels.extend(labels.cpu().numpy())\n",
    "    \n",
    "    test_accuracy = correct_test / total_test\n",
    "    test_accuracies.append(test_accuracy)\n",
    "    test_predictions.append(epoch_test_preds)\n",
    "    test_true_labels.append(epoch_test_labels)\n",
    "    print(f'Epoch [{epoch + 1}/{num_epochs}], Loss: {avg_train_loss:.4f}, Train Accuracy: {train_accuracy:.4f}, Test Accuracy: {test_accuracy:.4f}')\n",
    "\n",
    "train_data = []\n",
    "test_data = []\n",
    "\n",
    "for epoch in range(num_epochs):\n",
    "    train_data.extend([{\n",
    "        'epoch': epoch + 1,\n",
    "        'set': 'train',\n",
    "        'predicted': pred,\n",
    "        'true_label': label\n",
    "    } for pred, label in zip(train_predictions[epoch], train_true_labels[epoch])])\n",
    "    \n",
    "    test_data.extend([{\n",
    "        'epoch': epoch + 1,\n",
    "        'set': 'test',\n",
    "        'predicted': pred,\n",
    "        'true_label': label\n",
    "    } for pred, label in zip(test_predictions[epoch], test_true_labels[epoch])])\n",
    "\n",
    "all_data = pd.DataFrame(train_data + test_data)\n",
    "\n",
    "metrics_data = pd.DataFrame({\n",
    "    'epoch': range(1, num_epochs + 1),\n",
    "    'train_loss': train_losses,\n",
    "    'train_accuracy': train_accuracies,\n",
    "    'test_accuracy': test_accuracies\n",
    "})\n",
    "\n",
    "with pd.ExcelWriter('model_results.xlsx') as writer:\n",
    "    all_data.to_excel(writer, sheet_name='Predictions', index=False)\n",
    "    metrics_data.to_excel(writer, sheet_name='Metrics', index=False)"
   ]
  },
  {
   "cell_type": "code",
   "execution_count": 20,
   "metadata": {
    "id": "Fk3Efl3v08uR",
    "outputId": "490c1716-fc41-485b-b2eb-224b4e728771"
   },
   "outputs": [],
   "source": [
    "# %pip install openpyxl"
   ]
  },
  {
   "cell_type": "code",
   "execution_count": 21,
   "metadata": {
    "id": "ir9N1LVP08uR"
   },
   "outputs": [],
   "source": [
    "import openpyxl"
   ]
  },
  {
   "cell_type": "code",
   "execution_count": 22,
   "metadata": {
    "id": "cTO3pYQ208uR",
    "outputId": "98caa238-f4b1-4837-a4f0-ca154c10446c"
   },
   "outputs": [
    {
     "data": {
      "image/png": "[encoded data removed]",
      "text/plain": [
       "<Figure size 600x400 with 1 Axes>"
      ]
     },
     "metadata": {},
     "output_type": "display_data"
    },
    {
     "data": {
      "image/png": "[encoded data removed]",
      "text/plain": [
       "<Figure size 600x400 with 1 Axes>"
      ]
     },
     "metadata": {},
     "output_type": "display_data"
    },
    {
     "data": {
      "image/png": "[encoded data removed]",
      "text/plain": [
       "<Figure size 600x400 with 1 Axes>"
      ]
     },
     "metadata": {},
     "output_type": "display_data"
    }
   ],
   "source": [
    "# Plot training loss\n",
    "plt.figure(figsize=(6, 4))\n",
    "plt.plot(range(1, len(train_losses) + 1), train_losses, label='Training Loss', color='blue')\n",
    "plt.xlabel('Epochs')\n",
    "plt.ylabel('Loss')\n",
    "plt.title('Training Loss over Epochs')\n",
    "plt.legend()\n",
    "plt.show()\n",
    "\n",
    "# Plot training accuracy\n",
    "plt.figure(figsize=(6, 4))\n",
    "plt.plot(range(1, len(train_accuracies) + 1), train_accuracies, label='Training Accuracy', color='green')\n",
    "plt.xlabel('Epochs')\n",
    "plt.ylabel('Accuracy')\n",
    "plt.title('Training Accuracy over Epochs')\n",
    "plt.legend()\n",
    "plt.show()\n",
    "\n",
    "# Plot test accuracy\n",
    "plt.figure(figsize=(6, 4))\n",
    "plt.plot(range(1, len(test_accuracies) + 1), test_accuracies, label='Test Accuracy', color='red')\n",
    "plt.xlabel('Epochs')\n",
    "plt.ylabel('Accuracy')\n",
    "plt.title('Test Accuracy over Epochs')\n",
    "plt.legend()\n",
    "plt.show()\n"
   ]
  },
  {
   "cell_type": "markdown",
   "metadata": {
    "id": "SKPRSNjT08uR"
   },
   "source": [
    "### Question 7 [code] **(10 points)**\n",
    "Once you have completed the training, it's time to evaluate your model's performance. Implement the function ``predict_sentiment`` to predict the sentiment of a text sequence using the trained model ``net``. Next, define the function ``cal_metrics`` to assess your model on the test set by calculating both accuracy and the F1-score, including precision and recall. Finally, print out the evaluation results. Save the prediction results for each test sample and submit it in the zip file."
   ]
  },
  {
   "cell_type": "code",
   "execution_count": 23,
   "metadata": {
    "id": "Bv4BQqyI08uU"
   },
   "outputs": [],
   "source": [
    "def predict_sentiment(model, vocabulary, text):\n",
    "#   \"\"\"Predict the sentiment of a text sequence.\"\"\"\n",
    "    ### YOUR CODE HERE\n",
    "    device = torch.device('cuda' if torch.cuda.is_available() else 'cpu')\n",
    "\n",
    "    model = model.to(device)\n",
    "    model.eval()\n",
    "\n",
    "    if not hasattr(vocabulary, 'token_to_idx_map'):\n",
    "        vocabulary.token_to_idx_map = {\n",
    "            word: vocabulary[word]\n",
    "            for word in vocabulary.idx_to_token\n",
    "        }\n",
    "\n",
    "    words = text.strip().lower().split()\n",
    "    unknown_idx = vocabulary.token_to_idx_map['<unk>']\n",
    "    token_indices = []\n",
    "\n",
    "    for word in words:\n",
    "        idx = vocabulary.token_to_idx_map.get(word, unknown_idx)\n",
    "        token_indices.append(idx)\n",
    "\n",
    "    input_tensor = torch.tensor([token_indices], device=device)\n",
    "\n",
    "    with torch.no_grad():\n",
    "        logits = model(input_tensor)\n",
    "        prediction = logits.argmax(dim=1)\n",
    "        sentiment = 'positive' if prediction.item() == 1 else 'negative'\n",
    "\n",
    "\n",
    "    return sentiment\n",
    "    ### END OF YOUR CODE"
   ]
  },
  {
   "cell_type": "code",
   "execution_count": 24,
   "metadata": {
    "id": "cUzOBPsB08uU",
    "outputId": "a687c21e-ae31-4f4d-f7f9-a155c9d1cb97"
   },
   "outputs": [
    {
     "data": {
      "text/plain": [
       "'positive'"
      ]
     },
     "execution_count": 24,
     "metadata": {},
     "output_type": "execute_result"
    }
   ],
   "source": [
    "predict_sentiment(net, vocab, 'this movie is so great')"
   ]
  },
  {
   "cell_type": "code",
   "execution_count": 25,
   "metadata": {
    "id": "pxXoGnVM08uU",
    "outputId": "4f1f7064-6447-4b7a-db95-3bd7ffe7c4ce"
   },
   "outputs": [
    {
     "data": {
      "text/plain": [
       "'negative'"
      ]
     },
     "execution_count": 25,
     "metadata": {},
     "output_type": "execute_result"
    }
   ],
   "source": [
    "predict_sentiment(net, vocab, 'this movie is so bad')"
   ]
  },
  {
   "cell_type": "code",
   "execution_count": 26,
   "metadata": {
    "id": "NojGCw9t08uU"
   },
   "outputs": [],
   "source": [
    "from torchmetrics import F1Score, Precision, Recall, Accuracy\n",
    "import torch\n",
    "import pandas as pd\n",
    "import numpy as np\n",
    "import openpyxl\n",
    "\n",
    "def cal_metrics(model, data_loader, save_path=\"CNN_predictions.xlsx\"):\n",
    "\n",
    "    device = torch.device('cuda' if torch.cuda.is_available() else 'cpu')\n",
    "    model = model.to(device)\n",
    "\n",
    "    metric_calculators = {\n",
    "        'f1': F1Score(task=\"binary\", num_classes=2, average=\"macro\").to(device),\n",
    "        'precision': Precision(task=\"binary\", num_classes=2, average=\"macro\").to(device),\n",
    "        'recall': Recall(task=\"binary\", num_classes=2, average=\"macro\").to(device),\n",
    "        'accuracy': Accuracy(task=\"binary\", num_classes=2, average=\"macro\").to(device)\n",
    "    }\n",
    "\n",
    "    model.eval()\n",
    "    predictions = []\n",
    "    ground_truth = []\n",
    "\n",
    "    with torch.no_grad():\n",
    "        for inputs, targets in data_loader:\n",
    "            inputs = inputs.to(device)\n",
    "            targets = targets.to(device)\n",
    "\n",
    "            logits = model(inputs)\n",
    "            batch_preds = torch.argmax(logits, dim=1)\n",
    "            predictions.append(batch_preds)\n",
    "            ground_truth.append(targets)\n",
    "\n",
    "    final_preds = torch.cat(predictions)\n",
    "    final_labels = torch.cat(ground_truth)\n",
    "\n",
    "    results = {\n",
    "        name: float(calculator(final_preds, final_labels))\n",
    "        for name, calculator in metric_calculators.items()\n",
    "    }\n",
    "\n",
    "    print(\"\\nEvaluation Metrics:\")\n",
    "    print(\"-\" * 20)\n",
    "    for metric_name, value in results.items():\n",
    "        print(f\"{metric_name.title()}: {value:.4f}\")\n",
    "\n",
    "    preds_list = final_preds.cpu().tolist()\n",
    "    labels_list = final_labels.cpu().tolist()\n",
    "\n",
    "    prediction_df = pd.DataFrame({\n",
    "        'Sample_ID': range(1, len(preds_list) + 1),\n",
    "        'Predicted_Class': preds_list,\n",
    "        'True_Class': labels_list\n",
    "    })\n",
    "\n",
    "    try:\n",
    "        prediction_df.to_excel(save_path, index=False)\n",
    "        print(f\"\\nPredictions saved to: {save_path}\")\n",
    "    except Exception as e:\n",
    "        print(f\"\\nError saving predictions to Excel: {str(e)}\")\n",
    "\n",
    "    return (\n",
    "        results['f1'],\n",
    "        results['precision'],\n",
    "        results['recall'],\n",
    "        results['accuracy']\n",
    "    )"
   ]
  },
  {
   "cell_type": "code",
   "execution_count": 27,
   "metadata": {
    "id": "0TSb2gTq08uU",
    "outputId": "b8d2362b-1392-4e2b-ae7a-5aa620fe01e4"
   },
   "outputs": [
    {
     "name": "stdout",
     "output_type": "stream",
     "text": [
      "\n",
      "Evaluation Metrics:\n",
      "--------------------\n",
      "F1: 0.8469\n",
      "Precision: 0.8186\n",
      "Recall: 0.8774\n",
      "Accuracy: 0.8414\n",
      "\n",
      "Predictions saved to: CNN_predictions.xlsx\n"
     ]
    },
    {
     "data": {
      "text/plain": [
       "(0.8469380140304565,\n",
       " 0.8185549974441528,\n",
       " 0.8773599863052368,\n",
       " 0.8414400219917297)"
      ]
     },
     "execution_count": 27,
     "metadata": {},
     "output_type": "execute_result"
    }
   ],
   "source": [
    "cal_metrics(net, test_iter)"
   ]
  },
  {
   "cell_type": "markdown",
   "metadata": {
    "id": "WRtz1vTh08uV"
   },
   "source": [
    "# Using CNN for sentiment analysis (20 points)\n",
    "Although CNNs were originally designed for computer vision, they have been widely adopted in natural language processing as well. Conceptually, a text sequence can be viewed as a one-dimensional image, allowing one-dimensional CNNs to capture local features, such as n-grams, within the text. We will use the textCNN model to demonstrate how to design a CNN architecture for representing a single text.\n",
    "\n",
    "Using one-dimensional convolution and max-over-time pooling, the textCNN model takes individual pre-trained token representations as input, then extracts and transforms these sequence representations for downstream tasks.\n",
    "\n",
    "For a single text sequence with $n$ tokens represented by $d$-dimensional vectors, the width, height, and number of channels of the input tensor are $n$, $1$, and $d$, respectively. The textCNN model processes the input as follows:\n",
    "\n",
    "1. Define multiple one-dimensional convolutional kernels and apply convolution operations on the inputs. Convolution kernels with varying widths capture local features across different numbers of adjacent tokens.\n",
    "2. Apply max-over-time pooling to all output channels, then concatenate the resulting scalar outputs into a vector.\n",
    "3. Pass the concatenated vector through a fully connected layer to generate the output categories. Dropout can be applied to reduce overfitting."
   ]
  },
  {
   "cell_type": "code",
   "execution_count": 28,
   "metadata": {
    "id": "su2xjEyY08uV",
    "outputId": "7f867fca-00e1-4e8a-dfdd-79dc2ea227c1"
   },
   "outputs": [
    {
     "name": "stdout",
     "output_type": "stream",
     "text": [
      "11.8\n"
     ]
    }
   ],
   "source": [
    "import torch\n",
    "print(torch.version.cuda)"
   ]
  },
  {
   "cell_type": "markdown",
   "metadata": {
    "id": "_mxR5t0t08uV"
   },
   "source": [
    "### Question 8 [code] **(10 points)**\n",
    "Implement the ``textCNN`` model class. Compared with the bidirectional RNN model in Section 2, besides replacing recurrent layers with convolutional layers, we also use two embedding layers: one with trainable weights and the other with fixed weights."
   ]
  },
  {
   "cell_type": "code",
   "execution_count": 29,
   "metadata": {
    "id": "Ao-zuOYz08uV"
   },
   "outputs": [],
   "source": [
    "batch_size = 64\n",
    "train_iter, test_iter, vocab = d2l.load_data_imdb(batch_size)"
   ]
  },
  {
   "cell_type": "code",
   "execution_count": 30,
   "metadata": {
    "id": "aRsixyKP08uV"
   },
   "outputs": [],
   "source": [
    "class TextCNN(nn.Module):\n",
    "    def __init__(self, vocab_size, embed_size, kernel_sizes, num_channels,\n",
    "                 **kwargs):\n",
    "        super(TextCNN, self).__init__(**kwargs)\n",
    "        self.embedding = nn.Embedding(vocab_size, embed_size)\n",
    "        # The embedding layer not to be trained\n",
    "        self.constant_embedding = nn.Embedding(vocab_size, embed_size)\n",
    "        self.dropout = nn.Dropout(0.5)\n",
    "        self.decoder = nn.Linear(sum(num_channels), 2)\n",
    "        # The max-over-time pooling layer has no parameters, so this instance\n",
    "        # can be shared\n",
    "        self.pool = nn.AdaptiveAvgPool1d(1)\n",
    "        self.relu = nn.ReLU()\n",
    "        # Create multiple one-dimensional convolutional layers\n",
    "        self.convs = nn.ModuleList()\n",
    "        for c, k in zip(num_channels, kernel_sizes):\n",
    "            self.convs.append(nn.Conv1d(2 * embed_size, c, k))\n",
    "\n",
    "        # Initialize device\n",
    "        self.device = torch.device('cuda' if torch.cuda.is_available() else 'cpu')\n",
    "        self.to(self.device)\n",
    "\n",
    "    def forward(self, inputs):\n",
    "      # Concatenate two embedding layer outputs with shape (batch size, no.\n",
    "        # of tokens, token vector dimension) along vectors\n",
    "\n",
    "        # Per the input format of one-dimensional convolutional layers,\n",
    "        # rearrange the tensor so that the second dimension stores channels\n",
    "\n",
    "        # For each one-dimensional convolutional layer, after max-over-time\n",
    "        # pooling, a tensor of shape (batch size, no. of channels, 1) is\n",
    "        # obtained. Remove the last dimension and concatenate along channels\n",
    "\n",
    "        ### YOUR CODE HERE\n",
    "\n",
    "\n",
    "        inputs = inputs.to(self.device)\n",
    "\n",
    "        embeddings = torch.cat((\n",
    "            self.embedding(inputs),\n",
    "            self.constant_embedding(inputs)\n",
    "        ), dim=2)\n",
    "\n",
    "        embeddings = embeddings.permute(0, 2, 1)\n",
    "\n",
    "        encoding = []\n",
    "        for conv in self.convs:\n",
    "            feature = self.pool(self.relu(conv(embeddings)))\n",
    "            encoding.append(feature.squeeze(-1))\n",
    "\n",
    "        # Concatenate features\n",
    "        encoding = torch.cat(encoding, dim=1)\n",
    "\n",
    "        # Apply dropout and decode\n",
    "        outputs = self.decoder(self.dropout(encoding))\n",
    "        ### END OF YOUR CODE\n",
    "        return outputs"
   ]
  },
  {
   "cell_type": "code",
   "execution_count": 31,
   "metadata": {
    "id": "hultqH9P08uV",
    "outputId": "60f902a7-cb28-4be1-9eb8-06996abeda83"
   },
   "outputs": [
    {
     "name": "stdout",
     "output_type": "stream",
     "text": [
      "Using device: cuda\n",
      "CUDA Version: 11.8\n",
      "Number of GPUs: 1\n",
      "GPU 0: NVIDIA GeForce GTX 1060\n",
      "Current GPU: 0\n",
      "\n",
      "Model device: cuda:0\n"
     ]
    }
   ],
   "source": [
    "# First check CUDA availability\n",
    "device = torch.device('cuda' if torch.cuda.is_available() else 'cpu')\n",
    "print(f\"Using device: {device}\")\n",
    "\n",
    "if torch.cuda.is_available():\n",
    "    print(f\"CUDA Version: {torch.version.cuda}\")\n",
    "    print(f\"Number of GPUs: {torch.cuda.device_count()}\")\n",
    "    for i in range(torch.cuda.device_count()):\n",
    "        print(f\"GPU {i}: {torch.cuda.get_device_name(i)}\")\n",
    "    print(f\"Current GPU: {torch.cuda.current_device()}\")\n",
    "\n",
    "# Initialize model parameters\n",
    "embed_size, kernel_sizes, nums_channels = 100, [3, 4, 5], [100, 100, 100]\n",
    "\n",
    "# Initialize the model\n",
    "net = TextCNN(len(vocab), embed_size, kernel_sizes, nums_channels)\n",
    "\n",
    "# Initialize weights\n",
    "def init_weights(module):\n",
    "    if type(module) in (nn.Linear, nn.Conv1d):\n",
    "        nn.init.xavier_uniform_(module.weight)\n",
    "\n",
    "net.apply(init_weights)\n",
    "\n",
    "# Move model to GPU if available\n",
    "net = net.to(device)\n",
    "\n",
    "# Verify model is on correct device\n",
    "print(f\"\\nModel device: {next(net.parameters()).device}\")"
   ]
  },
  {
   "cell_type": "code",
   "execution_count": 32,
   "metadata": {
    "id": "pMsGnTCG08uV",
    "outputId": "08f24216-f429-4d7e-903c-b3ad4d8b6abe"
   },
   "outputs": [
    {
     "name": "stdout",
     "output_type": "stream",
     "text": [
      "Embeddings shape: torch.Size([49346, 100])\n"
     ]
    }
   ],
   "source": [
    "from d2l import torch as d2l\n",
    "\n",
    "def load_glove_embeddings(embedding_name='glove.6b.100d'):\n",
    "    data_dir = d2l.download_extract(embedding_name)\n",
    "    idx_to_token, idx_to_vec = [], []\n",
    "\n",
    "    with open(os.path.join(data_dir, 'vec.txt'), 'r', encoding='utf-8') as f:\n",
    "        for line in f:\n",
    "            elems = line.rstrip().split(' ')\n",
    "            token, elems = elems[0], [float(elem) for elem in elems[1:]]\n",
    "            idx_to_token.append(token)\n",
    "            idx_to_vec.append(elems)\n",
    "\n",
    "    idx_to_vec = torch.tensor(idx_to_vec)\n",
    "    return idx_to_token, idx_to_vec\n",
    "\n",
    "try:\n",
    "    class CustomTokenEmbedding(d2l.TokenEmbedding):\n",
    "        def __init__(self, embedding_name):\n",
    "            super().__init__(embedding_name)\n",
    "\n",
    "        def _load_embedding(self, embedding_name):\n",
    "            return load_glove_embeddings(embedding_name)\n",
    "\n",
    "    glove_embedding = CustomTokenEmbedding('glove.6b.100d')\n",
    "    embeds = glove_embedding[vocab.idx_to_token]\n",
    "    print(f\"Embeddings shape: {embeds.shape}\")\n",
    "\n",
    "except Exception as e:\n",
    "    print(f\"Error loading embeddings: {str(e)}\")\n",
    "net.embedding.weight.data.copy_(embeds)\n",
    "net.constant_embedding.weight.data.copy_(embeds)\n",
    "net.constant_embedding.weight.requires_grad = False"
   ]
  },
  {
   "cell_type": "markdown",
   "metadata": {
    "id": "ajVRiibF08uV"
   },
   "source": [
    "### Question 9 [code] **(10 points)**\n",
    "Similar to what we have done in Section 2 with RNN, train the CNN model with the same optimizer and loss function. Draw a graph about your training loss, training acc and testing acc. Use the prediction function you defined in Question 7 to evaluate your model performance."
   ]
  },
  {
   "cell_type": "code",
   "execution_count": 33,
   "metadata": {
    "id": "22VV_l6D08uW",
    "outputId": "b7bf5f48-1a0f-4f09-8312-3e90ffa087ea"
   },
   "outputs": [
    {
     "name": "stdout",
     "output_type": "stream",
     "text": [
      "Using device: cuda\n",
      "Epoch [1/5]:\n",
      "  Train Loss: 0.6132\n",
      "  Train Accuracy: 0.7195\n",
      "  Test Accuracy: 0.8660\n",
      "Epoch [2/5]:\n",
      "  Train Loss: 0.2855\n",
      "  Train Accuracy: 0.8862\n",
      "  Test Accuracy: 0.8712\n",
      "Epoch [3/5]:\n",
      "  Train Loss: 0.1545\n",
      "  Train Accuracy: 0.9429\n",
      "  Test Accuracy: 0.8689\n",
      "Epoch [4/5]:\n",
      "  Train Loss: 0.0868\n",
      "  Train Accuracy: 0.9700\n",
      "  Test Accuracy: 0.8499\n",
      "Epoch [5/5]:\n",
      "  Train Loss: 0.0526\n",
      "  Train Accuracy: 0.9829\n",
      "  Test Accuracy: 0.8575\n"
     ]
    },
    {
     "data": {
      "image/png": "[encoded data removed]",
      "text/plain": [
       "<Figure size 1200x400 with 3 Axes>"
      ]
     },
     "metadata": {},
     "output_type": "display_data"
    },
    {
     "name": "stdout",
     "output_type": "stream",
     "text": [
      "\n",
      "Evaluation Metrics:\n",
      "--------------------\n",
      "F1: 0.8619\n",
      "Precision: 0.8362\n",
      "Recall: 0.8893\n",
      "Accuracy: 0.8575\n",
      "\n",
      "Predictions saved to: CNN_predictions.xlsx\n",
      "\n",
      "Final Model Performance:\n",
      "F1 Score: 0.8619\n",
      "Precision: 0.8362\n",
      "Recall: 0.8893\n",
      "Accuracy: 0.8575\n",
      "\n",
      "CUDA Information:\n",
      "CUDA Version: 11.8\n",
      "Current GPU: NVIDIA GeForce GTX 1060\n",
      "Memory Allocated: 99.74 MB\n",
      "Memory Cached: 1174.00 MB\n"
     ]
    }
   ],
   "source": [
    "import torch.nn as nn\n",
    "import torch.optim as optim\n",
    "import matplotlib.pyplot as plt\n",
    "\n",
    "def train_cnn_model(net, train_iter, test_iter, num_epochs=5, lr=0.01):\n",
    "    # Determine device\n",
    "    device = torch.device('cuda' if torch.cuda.is_available() else 'cpu')\n",
    "    print(f'Using device: {device}')\n",
    "\n",
    "    # Ensure model is on correct device\n",
    "    net = net.to(device)\n",
    "\n",
    "    history = {\n",
    "        'train_loss': [],\n",
    "        'train_acc': [],\n",
    "        'test_acc': []\n",
    "    }\n",
    "\n",
    "    criterion = nn.CrossEntropyLoss()\n",
    "    optimizer = optim.Adam(net.parameters(), lr=lr)\n",
    "\n",
    "    for epoch in range(num_epochs):\n",
    "        net.train()\n",
    "        total_loss = 0\n",
    "        correct_train = total_train = 0\n",
    "\n",
    "        for features, labels in train_iter:\n",
    "            # Move batch data to device\n",
    "            features = features.to(device)\n",
    "            labels = labels.to(device)\n",
    "\n",
    "            outputs = net(features)\n",
    "            loss = criterion(outputs, labels)\n",
    "            optimizer.zero_grad()\n",
    "            loss.backward()\n",
    "            optimizer.step()\n",
    "\n",
    "            total_loss += loss.item()\n",
    "            _, predicted = torch.max(outputs, 1)\n",
    "            total_train += labels.size(0)\n",
    "            correct_train += (predicted == labels).sum().item()\n",
    "\n",
    "        avg_train_loss = total_loss / len(train_iter)\n",
    "        train_accuracy = correct_train / total_train\n",
    "\n",
    "        net.eval()\n",
    "        correct_test = total_test = 0\n",
    "\n",
    "        with torch.no_grad():\n",
    "            for features, labels in test_iter:\n",
    "                # Move batch data to device\n",
    "                features = features.to(device)\n",
    "                labels = labels.to(device)\n",
    "\n",
    "                outputs = net(features)\n",
    "                _, predicted = torch.max(outputs, 1)\n",
    "                total_test += labels.size(0)\n",
    "                correct_test += (predicted == labels).sum().item()\n",
    "\n",
    "        test_accuracy = correct_test / total_test\n",
    "        history['train_loss'].append(avg_train_loss)\n",
    "        history['train_acc'].append(train_accuracy)\n",
    "        history['test_acc'].append(test_accuracy)\n",
    "\n",
    "        print(f'Epoch [{epoch+1}/{num_epochs}]:')\n",
    "        print(f'  Train Loss: {avg_train_loss:.4f}')\n",
    "        print(f'  Train Accuracy: {train_accuracy:.4f}')\n",
    "        print(f'  Test Accuracy: {test_accuracy:.4f}')\n",
    "\n",
    "    return history\n",
    "\n",
    "# Train the model\n",
    "history = train_cnn_model(net, train_iter, test_iter, num_epochs=5, lr=0.01)\n",
    "\n",
    "# Plotting\n",
    "plt.figure(figsize=(12, 4))\n",
    "\n",
    "plt.subplot(1, 3, 1)\n",
    "plt.plot(history['train_loss'], 'b-', label='Training Loss')\n",
    "plt.title('Training Loss')\n",
    "plt.xlabel('Epoch')\n",
    "plt.ylabel('Loss')\n",
    "plt.grid(True)\n",
    "plt.legend()\n",
    "\n",
    "plt.subplot(1, 3, 2)\n",
    "plt.plot(history['train_acc'], 'g-', label='Training Accuracy')\n",
    "plt.title('Training Accuracy')\n",
    "plt.xlabel('Epoch')\n",
    "plt.ylabel('Accuracy')\n",
    "plt.grid(True)\n",
    "plt.legend()\n",
    "\n",
    "plt.subplot(1, 3, 3)\n",
    "plt.plot(history['test_acc'], 'r-', label='Test Accuracy')\n",
    "plt.title('Test Accuracy')\n",
    "plt.xlabel('Epoch')\n",
    "plt.ylabel('Accuracy')\n",
    "plt.grid(True)\n",
    "plt.legend()\n",
    "\n",
    "plt.tight_layout()\n",
    "plt.show()\n",
    "\n",
    "# Calculate final metrics\n",
    "net.eval()\n",
    "final_metrics = cal_metrics(net, test_iter)\n",
    "print(\"\\nFinal Model Performance:\")\n",
    "print(f\"F1 Score: {final_metrics[0]:.4f}\")\n",
    "print(f\"Precision: {final_metrics[1]:.4f}\")\n",
    "print(f\"Recall: {final_metrics[2]:.4f}\")\n",
    "print(f\"Accuracy: {final_metrics[3]:.4f}\")\n",
    "\n",
    "# Print CUDA information\n",
    "if torch.cuda.is_available():\n",
    "    print(\"\\nCUDA Information:\")\n",
    "    print(f\"CUDA Version: {torch.version.cuda}\")\n",
    "    print(f\"Current GPU: {torch.cuda.get_device_name()}\")\n",
    "    print(f\"Memory Allocated: {torch.cuda.memory_allocated()/1024**2:.2f} MB\")\n",
    "    print(f\"Memory Cached: {torch.cuda.memory_reserved()/1024**2:.2f} MB\")"
   ]
  },
  {
   "cell_type": "code",
   "execution_count": 34,
   "metadata": {
    "id": "Af1FxRd908uW",
    "outputId": "8fdaad1d-1efb-4e51-eaeb-9a5ecc55a0ac"
   },
   "outputs": [
    {
     "data": {
      "text/plain": [
       "'positive'"
      ]
     },
     "execution_count": 34,
     "metadata": {},
     "output_type": "execute_result"
    }
   ],
   "source": [
    "predict_sentiment(net, vocab, 'this movie is so great')"
   ]
  },
  {
   "cell_type": "code",
   "execution_count": 35,
   "metadata": {
    "id": "SAx5dlBF08uW",
    "outputId": "18f797c2-8fd8-4e2a-d486-f68fb5685f9d"
   },
   "outputs": [
    {
     "data": {
      "text/plain": [
       "'negative'"
      ]
     },
     "execution_count": 35,
     "metadata": {},
     "output_type": "execute_result"
    }
   ],
   "source": [
    "predict_sentiment(net, vocab, 'this movie is so bad')"
   ]
  },
  {
   "cell_type": "code",
   "execution_count": 36,
   "metadata": {
    "id": "of_F2YL608uW",
    "outputId": "60de7c64-554f-4cad-c3ee-ff260d55d6a2"
   },
   "outputs": [
    {
     "name": "stdout",
     "output_type": "stream",
     "text": [
      "\n",
      "Evaluation Metrics:\n",
      "--------------------\n",
      "F1: 0.8619\n",
      "Precision: 0.8362\n",
      "Recall: 0.8893\n",
      "Accuracy: 0.8575\n",
      "\n",
      "Predictions saved to: CNN_predictions.xlsx\n"
     ]
    },
    {
     "data": {
      "text/plain": [
       "(0.8619058728218079,\n",
       " 0.8361666798591614,\n",
       " 0.8892800211906433,\n",
       " 0.8575199842453003)"
      ]
     },
     "execution_count": 36,
     "metadata": {},
     "output_type": "execute_result"
    }
   ],
   "source": [
    "cal_metrics(net, test_iter)"
   ]
  },
  {
   "cell_type": "markdown",
   "metadata": {
    "id": "kr6EHwQJ08uW"
   },
   "source": [
    "# Design Challenge (30 points)\n",
    "Now it's time to come up with your own model! You are free to decide what model you want to choose or what architecture you think is better for this task. You are also free to set all the hyperparameter for training (do consider the overfitting issue and the computing cost). From here we will see how important choosing/designing a better model architecture could be when building an NLP application in practice (however, there is no requirement for you to include such comparisons in your report).\n",
    "\n",
    "You are allowed to use external packages for this challenge, but we require that you fully understand the methods/techniques that you used, and you need to clearly explain such details in the submitted report. We will evaluate your system's performance on the held-out test set, which will only be released 48 hours before the deadline. Use your new system to generate the outputs. The system that achieves the highest F1 score will be announced as the winner for the challenge. We may perform further analysis/evaluations in case there is no clear winner based on the released test set.\n",
    "\n",
    "Let's summarize this challenge:"
   ]
  },
  {
   "cell_type": "markdown",
   "metadata": {
    "id": "4MIXnt4F08uW"
   },
   "source": [
    "(i) **[Model]** You are required to develop your own model for sentiment analysis, with no restrictions on the model architecture. You may choose to follow RNN/CNN structures or experiment with Transformer-based models. In your submitted report, you must provide a detailed explanation of your model along with the accompanying code. Additionally, you are required to submit your model so that we can reproduce your results.\n",
    "\n",
    "*_(10 points)_*\n",
    "\n",
    "(ii) **[Evaluation]** For a fair comparison, you must train your new model on the same dataset provided to you. After training, evaluate your model on the test set. You are required to report the **precision**, **recall**, **F1 scores**, and **accuracy** of your new model. Save the predicted outcome for the test set and include it in the submission.\n",
    "\n",
    "_Hint:_ You will be competing with other groups on the same test set. Groups with higher performance will receive more points. For instance, if your group ranks 1st among all groups, you will receive 15 points for this section.\n",
    "\n",
    "*_(15 points)_*\n",
    "\n",
    "(iii) **[Report]** You are required to submit a report for your model. The report must include, at a minimum, the following sections: Model Description, Training Settings (e.g., dataset, hyperparameters), Performance, Code to run the model, and a breakdown of how the work was divided among team members. You are encouraged to include any additional details you deem important. Instructions on how to run the code can either be included in a separate README file or integrated into the report, as long as they are clearly presented.\n",
    "\n",
    "Please provide a thorough explanation of the model or method you used for designing the new system, along with clear documentation on how to execute the code. We will review your code, and may request an interview if we have any questions about it.\n",
    "\n",
    "_Note:_ Reports, code, and README files that are of low quality or poorly written will be penalized, so please ensure they are well-organized and clearly formatted. If we are unable to reproduce your model or run your code, you will not receive any points for this challenge.\n",
    "\n",
    "*_(5 points)_*"
   ]
  },
  {
   "cell_type": "markdown",
   "metadata": {
    "id": "Aud1fftO08uW"
   },
   "source": [
    "# Start your model in a different .py file with a README explaination."
   ]
  },
  {
   "cell_type": "code",
   "execution_count": null,
   "metadata": {
    "id": "abdJdXX_08uX"
   },
   "outputs": [],
   "source": []
  }
 ],
 "metadata": {
  "colab": {
   "provenance": []
  },
  "kernelspec": {
   "display_name": "venv",
   "language": "python",
   "name": "python3"
  },
  "language_info": {
   "codemirror_mode": {
    "name": "ipython",
    "version": 3
   },
   "file_extension": ".py",
   "mimetype": "text/x-python",
   "name": "python",
   "nbconvert_exporter": "python",
   "pygments_lexer": "ipython3",
   "version": "3.10.12"
  }
 },
 "nbformat": 4,
 "nbformat_minor": 0
}
